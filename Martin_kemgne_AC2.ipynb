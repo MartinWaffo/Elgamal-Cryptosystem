{
 "cells": [
  {
   "cell_type": "markdown",
   "metadata": {},
   "source": [
    "# This first path consiste to give some first algorithms which will be use for the next\n"
   ]
  },
  {
   "cell_type": "markdown",
   "metadata": {},
   "source": [
    "#  Algorithm of Extended Euclidian Division "
   ]
  },
  {
   "cell_type": "code",
   "execution_count": 38,
   "metadata": {},
   "outputs": [],
   "source": [
    "def ExtEucliDiviAlgorith(a,b):\n",
    "    u0,u1,v0,v1=1,0,0,1\n",
    "    q,r=divmod(a,b)\n",
    "    u=0\n",
    "    v=0\n",
    "    while r!=0:\n",
    "        q,r=divmod(a,b)\n",
    "        u=u1\n",
    "        u1=u0-u1*q\n",
    "        v=v1\n",
    "        v1=v0-v1*q\n",
    "        u0=u\n",
    "        v0=v\n",
    "        a=b\n",
    "        b=r\n",
    "    return [a,u,v]"
   ]
  },
  {
   "cell_type": "markdown",
   "metadata": {},
   "source": [
    "# Algorithm to inverse a element of cyclic group"
   ]
  },
  {
   "cell_type": "code",
   "execution_count": 2,
   "metadata": {},
   "outputs": [],
   "source": [
    "def inv(a,n):\n",
    "    if ExtEucliDiviAlgorith(a,n)[0]!=1:\n",
    "        return \"not inversible\"\n",
    "    else:\n",
    "        u=ExtEucliDiviAlgorith(a,n)[1]\n",
    "        u_bar=u.mod(n)\n",
    "    return u_bar"
   ]
  },
  {
   "cell_type": "markdown",
   "metadata": {},
   "source": [
    "# Algorithm of chinese remainder for two numbers and a finite set of numbers"
   ]
  },
  {
   "cell_type": "code",
   "execution_count": 45,
   "metadata": {},
   "outputs": [],
   "source": [
    "def chin(a,b,n,m):\n",
    "    if ExtEucliDiviAlgorith(n,m)[0]==1:\n",
    "        u=ExtEucliDiviAlgorith(n,m)[1]\n",
    "        v=ExtEucliDiviAlgorith(n,m)[2]\n",
    "        x=b*u*n+a*v*m\n",
    "        return power_mod(x,1,m*n)\n",
    "    else:\n",
    "        return \"n and m are not coprime\"\n",
    "chin(1,3,4,7)\n",
    "\n",
    "\n",
    "def chinese(L,M):\n",
    "    a=L[0]\n",
    "    b=L[1]\n",
    "    n=M[0]\n",
    "    m=M[1]\n",
    "    a=chin(a,b,n,m)\n",
    "    i=2\n",
    "    while i!=len(L):\n",
    "        b=L[i]\n",
    "        n=m*n\n",
    "        m=M[i]\n",
    "        a=chin(a,b,n,m)\n",
    "        i=i+1\n",
    "    return a\n",
    "\n"
   ]
  },
  {
   "cell_type": "markdown",
   "metadata": {},
   "source": [
    "# Algorithm for  Rabin Miller test "
   ]
  },
  {
   "cell_type": "code",
   "execution_count": 46,
   "metadata": {},
   "outputs": [],
   "source": [
    "def RABMILLER(b,n):\n",
    "    d=ExtEucliDiviAlgorith(b,n)[0]\n",
    "    if d>1 or power_mod(n,1,2)==0:\n",
    "        return \"n is composite\"\n",
    "    else:\n",
    "        s=0\n",
    "        t=n-1\n",
    "        while power_mod(t,1,2)==0:\n",
    "            s+=1\n",
    "            t=t//2\n",
    "        if power_mod(b,t,n)!=1 and n-1 not in [power_mod(b,t*2**i,n)  for i in range(s)]:\n",
    "            return \"n is composite\"\n",
    "        else:\n",
    "            return \"inconlusif\"\n",
    "def Test(k,n):\n",
    "    for i in range(k):\n",
    "        b=randint(2,n-1)\n",
    "        if RABMILLER(b,n)==\"n is composite\":\n",
    "            return \"is composite\"\n",
    "    return \"is probabily prime\"\n",
    "        \n",
    "\n"
   ]
  },
  {
   "cell_type": "markdown",
   "metadata": {},
   "source": [
    "# Alorithm to  find a enerator of a cyclique group"
   ]
  },
  {
   "cell_type": "code",
   "execution_count": 5,
   "metadata": {},
   "outputs": [
    {
     "data": {
      "text/plain": [
       "137"
      ]
     },
     "execution_count": 5,
     "metadata": {},
     "output_type": "execute_result"
    }
   ],
   "source": [
    "def Gene(p):\n",
    "    n=p-1\n",
    "    L=factor(n)\n",
    "    g=randint(1,n)\n",
    "    while ExtEucliDiviAlgorith(g,n)[0]!=1:\n",
    "         g=randint(1,n)\n",
    "    c=0\n",
    "    for k in [L[i][0] for i in range(len(L))]:\n",
    "        if power_mod(g,n//k,p)!=1:\n",
    "            c+=1\n",
    "    if c==len(L):\n",
    "        return g\n",
    "    return Gene(p)\n",
    "p=500\n",
    "Gene(p)"
   ]
  },
  {
   "cell_type": "markdown",
   "metadata": {},
   "source": [
    "# Algorithm Baby step Giant Step"
   ]
  },
  {
   "cell_type": "code",
   "execution_count": 6,
   "metadata": {},
   "outputs": [
    {
     "data": {
      "text/plain": [
       "4"
      ]
     },
     "execution_count": 6,
     "metadata": {},
     "output_type": "execute_result"
    }
   ],
   "source": [
    "def Baby(p,n,g,x):\n",
    "    m=int(sqrt(n))\n",
    "    L=[power_mod((x*power_mod(g,i,p)),1,p) for i in range(m+1)]\n",
    "    j=1\n",
    "    while power_mod(g,j*m,p) not in L:\n",
    "        j=j+1\n",
    "    i=L.index(power_mod(g,j*m,p))\n",
    "    return power_mod(j*m-i,1,n)\n"
   ]
  },
  {
   "cell_type": "markdown",
   "metadata": {},
   "source": [
    "# Algorithm for  discrete logarithm:  Where the order of a group is in form of the power of prime number"
   ]
  },
  {
   "cell_type": "code",
   "execution_count": 7,
   "metadata": {},
   "outputs": [
    {
     "data": {
      "text/plain": [
       "48"
      ]
     },
     "execution_count": 7,
     "metadata": {},
     "output_type": "execute_result"
    }
   ],
   "source": [
    "\n",
    "def DLPBaby(p,x,q,m,g):\n",
    "    h=power_mod(g,q**(m-1),p)\n",
    "    z=0\n",
    "    a=Baby(p,q,h,power_mod(x,q**(m-1),p))\n",
    "    A=[a]\n",
    "    gi=inv(g,p)\n",
    "    for i in range(1,m):\n",
    "        z=A[i-1]*q**(i-1)\n",
    "        x=power_mod(x*power_mod(gi,z,p),1,p)\n",
    "        a=Baby(p,q,h,power_mod(x,q**(m-i-1),p))\n",
    "        A.append(a)  \n",
    "    k=sum([A[i]*q**i for i in range(m)])\n",
    "    return power_mod(k,1,p)\n",
    "q=2\n",
    "m=8\n",
    "g=3\n",
    "p=257\n",
    "x=2\n",
    "\n",
    "    if len(L)!=len(M):\n",
    "        return \"Please check your datas\"\n",
    "    a=L[0]\n",
    "    b=L[1]\n",
    "    n=M[0]\n",
    "    m=M[1]\n",
    "    a=chin(a,b,n,m)\n",
    "    for i in range(2,len(L)):\n",
    "        if a==\"n and m are not coprime\":\n",
    "            return \"all the element of your list M are not coprime\"\n",
    "        b=L[i]\n",
    "        n=m*n\n",
    "        m=M[i]\n",
    "        a=chin(a,b,n,m)\n",
    "    return a\n",
    "L=[1,3,1]\n",
    "M=[25,5,5]\n",
    "chineses(L,M)\n",
    "\n",
    "#         if Test(50,2*l+1)==\"is probabily prime\" and Test(50,l)==\"is probabily prime\":\n",
    "#             return 2*l+1\n",
    "#         j=randint(int(n//4),n//2-1)\n",
    "#         l1=randint(2**j,2**j+1) \n",
    "#         l2=randint(int(y0/l1),int(y1/l1))\n",
    "#         if Test(50,l1)==\"is probabily prime\" and Test(50,l2)==\"is probabily prime\" and Test(50,2*l1*l2+1)==\"is probabily prime\":\n",
    "#             return 2*l1*l2+1\n",
    "        \n",
    "DLPBaby(p,x,q,m,g)"
   ]
  },
  {
   "cell_type": "markdown",
   "metadata": {},
   "source": [
    "# Algorithm for  Silver,Pohlig and Hellman (DLP)"
   ]
  },
  {
   "cell_type": "code",
   "execution_count": 8,
   "metadata": {},
   "outputs": [
    {
     "data": {
      "text/plain": [
       "9"
      ]
     },
     "execution_count": 8,
     "metadata": {},
     "output_type": "execute_result"
    }
   ],
   "source": [
    "def SPH(p,x,g):\n",
    "    M=[]\n",
    "    L=[]\n",
    "    n=p-1\n",
    "    f=factor(n)\n",
    "    for q in f:\n",
    "        nq=n//(q[0]**q[1])\n",
    "        xq=power_mod(x,nq,p)\n",
    "        gq=power_mod(g,nq,p)\n",
    "        L.append(DLPBaby(p,xq,q[0],q[1],gq))\n",
    "        M.append(q[0]**q[1])\n",
    "    if len(M)==1:\n",
    "            return M[0]\n",
    "    return chinese(L,M)\n",
    "p=13\n",
    "g=2\n",
    "x=5\n",
    "SPH(p,x,g)"
   ]
  },
  {
   "cell_type": "markdown",
   "metadata": {},
   "source": [
    "# Algorithm of Elgamal Cryptosystem: Encryption and Decryption"
   ]
  },
  {
   "cell_type": "code",
   "execution_count": 9,
   "metadata": {},
   "outputs": [],
   "source": [
    "def Encrypt(m,b,g,a,p):\n",
    "    u=power_mod(g,b,p)\n",
    "    v=power_mod(m*g**(a*b),1,p)\n",
    "    return u,v\n",
    "def Decrytp (u,v,a,p):\n",
    "    x=power_mod(inv(u,p),a,p)\n",
    "    m=power_mod(x*v,1,p)\n",
    "    return m\n",
    "\n"
   ]
  },
  {
   "cell_type": "markdown",
   "metadata": {},
   "source": [
    "# Algorithm to generate the Safe Prime"
   ]
  },
  {
   "cell_type": "code",
   "execution_count": 10,
   "metadata": {},
   "outputs": [],
   "source": [
    "def Safe_Prime(n):\n",
    "    x=2**n\n",
    "    y0=int((x-(ln(x).n())**2)/(2*(ln(x).n())**2))\n",
    "    y1=2**(n-1)-1\n",
    "    while True:\n",
    "        l=randint(y0,y1)\n",
    "        p=2*l+1\n",
    "        if Test(p) and Test(l):\n",
    "            return p\n",
    "        j=randint (floor(n//4), n//2-1)\n",
    "        l1=randint(2**j,2**(j+1))\n",
    "        l2=randint(y0//l1,y1//l1)\n",
    "        if Test(l1) and Test(l2) and Test(2*l1*l2+1):\n",
    "            p= 2*l1*l2+1\n",
    "            return p\n",
    "\n",
    "def Test(N):\n",
    "    x=randint(1,N-1)\n",
    "    if gcd(x,N)!=1:\n",
    "        return False\n",
    "    y=power_mod(x,N-1,N)\n",
    "    if y!=1:\n",
    "        return False\n",
    "    return True\n",
    "\n"
   ]
  },
  {
   "cell_type": "markdown",
   "metadata": {},
   "source": [
    "# Exercise 2:\n",
    "## Let us show how Eve can find $g_{AB}$\n",
    "\n",
    "\n",
    "According to what we have done in classe, the public key in Elgamal Cryptosystem is on the form $pk=(G,g,g^a)$ and where the secret key is  $sk=a$.\\\\\n",
    "\n",
    "More over, from the hypothesis of exercise,  Alice and Bob are use Elgamal cryptosystem based on the cyclic group $G=\\left(\\mathbb{Z}/p\\mathbb{Z}\\right)^{\\times}$ where $p=112211293740262525327$  and a generator this groupe is g=3.The public and secret keys of Alice is $pk_A=(G,3,2014)$ $sk_A=A$ and the public and secret keys of Bob are $pk_B=(G,3,2022)$ and $sk_B=B$ respectively.\n",
    "\n",
    "From the hypothesis, Eve knows that Alice and Bob agreed to use Diffie-Hellman secret key exchange to come up with a common secret key $g_{AB}$\\\\\n",
    "\n",
    "But the common secret key $g_{AB}$ is  defined by,  $g_{AB}=\\left(g^A\\right)^B=\\left(g^B\\right)^A$. Hence, if we want to get  $g_{AB}$, Eve need to find $A$ or $B$ (because if we know $A$ we can get $g_{AB}$ from $g^B$ and if   we know $B$, we can get $g_{AB}$ from $g^A$ ).\n",
    "\n",
    "\n",
    "Then, \\\\\n",
    "if  we know $g^A$, to get $A$, Eve need to calculate the inverse discrete logarithm of $g^A=2014$.\n",
    "\n",
    "If we know $g^B$,  to get $B$ Eve need to calculate the inverse discrete logarithm of $g^B=2022$.\n",
    "\n",
    "So we can choose to find $A$, by using one of the algorithm to compute the discrete logorithm that we have seen in classe; in particular Silver,Pohlig and Hellman Algorithm bu taking our x like $g^A=2014$."
   ]
  },
  {
   "cell_type": "code",
   "execution_count": 11,
   "metadata": {},
   "outputs": [
    {
     "name": "stdout",
     "output_type": "stream",
     "text": [
      "The key A has the value  39337370770196487501\n",
      "The  key g_AB has the value is  893986632192709236\n"
     ]
    }
   ],
   "source": [
    "p=112211293740262525327\n",
    "g_A=2014\n",
    "g_B=2022\n",
    "g=3\n",
    "A=SPH(p,g_A,g)\n",
    "g_AB=power_mod(g_B,A,p)\n",
    "print(\"The key A has the value \",A)\n",
    "print(\"The  key g_AB has the value is \",g_AB)\n"
   ]
  },
  {
   "cell_type": "markdown",
   "metadata": {},
   "source": [
    "# Exercice 3:\n",
    "## Let us help Bob to decrypt the message. \n",
    "## To do that, we need to get first the value of $A$ and after decryp the message, usigne that $A$\n"
   ]
  },
  {
   "cell_type": "code",
   "execution_count": 12,
   "metadata": {},
   "outputs": [
    {
     "name": "stdout",
     "output_type": "stream",
     "text": [
      "The value of B is: 5191\n"
     ]
    }
   ],
   "source": [
    "pn =123456789987654353003\n",
    "g_A1=52808579942366933355\n",
    "g1=123456789\n",
    "g_B1=39318628345168608817\n",
    "A1=SPH(pn,g_B1,g1)\n",
    "print(\"The value of B is:\",A1)"
   ]
  },
  {
   "cell_type": "markdown",
   "metadata": {},
   "source": [
    "# Algorithm  which decrypt the message in word"
   ]
  },
  {
   "cell_type": "code",
   "execution_count": 14,
   "metadata": {},
   "outputs": [],
   "source": [
    "alphabet= \"$ABCDEFGHIJKLMNOPQRSTUVWXYZ$$$$ '.,?\"\n",
    "def Original_Message(y):\n",
    "    y= str(y)\n",
    "    m=''\n",
    "    for i in range (len(y)/2):\n",
    "        letter= int(y[2*i:2*i+2])\n",
    "        m= m+alphabet[letter-10]\n",
    "    return m"
   ]
  },
  {
   "cell_type": "markdown",
   "metadata": {},
   "source": [
    "# This algorithm help to join all the  message that we have decrypt in a particular list "
   ]
  },
  {
   "cell_type": "code",
   "execution_count": null,
   "metadata": {},
   "outputs": [],
   "source": [
    " \n",
    "def decrytp_N_message(M,a,p):\n",
    "    L=[]\n",
    "    for i in range(len(M)):\n",
    "        L.append(Decrytp(M[i][0],M[i][1],a,p))\n",
    "    return L"
   ]
  },
  {
   "cell_type": "code",
   "execution_count": null,
   "metadata": {},
   "outputs": [],
   "source": [
    "B=5191\n",
    "p=123456789987654353003\n",
    "M=[[83025882561049910713, 66740266984208729661],[117087132399404660932, 44242256035307267278],[67508282043396028407, 77559274822593376192],[60938739831689454113, 14528504156719159785],[5059840044561914427, 59498668430421643612],[92232942954165956522, 105988641027327945219],[97102226574752360229, 46166643538418294423]]\n",
    "L=decrytp_N_message(M,B,p)\n",
    "y=\"\".join([str(i) for i in L])\n",
    "print(\"The orignal message is :\",Original_Message(y))\n"
   ]
  },
  {
   "cell_type": "markdown",
   "metadata": {},
   "source": [
    "# Exercice 4\n",
    "## Let us Create our own public key and private key for Elgamal cryptosystem. Knowing that our prime number has to be ”safe” and its number of digits is not less that 400."
   ]
  },
  {
   "cell_type": "code",
   "execution_count": 27,
   "metadata": {},
   "outputs": [],
   "source": [
    "n=1380\n",
    "P=Safe_Prime(n)"
   ]
  },
  {
   "cell_type": "code",
   "execution_count": 28,
   "metadata": {},
   "outputs": [
    {
     "data": {
      "text/plain": [
       "15983826980302109369101541716190454819730044769214253808599277206049318207301349503861141958940766056381261292203143724110984321152195150640216925546634781449672900517967422225000843827916799456536688520341419530526035334412640591742095175846186515461947358670206619911809493170346309685598254911827825514820322635606947891387070396707003695120311902017196393833560714059753235756743665448455476518890366358686024359"
      ]
     },
     "execution_count": 28,
     "metadata": {},
     "output_type": "execute_result"
    }
   ],
   "source": [
    "P"
   ]
  },
  {
   "cell_type": "code",
   "execution_count": 47,
   "metadata": {},
   "outputs": [
    {
     "data": {
      "text/plain": [
       "416"
      ]
     },
     "execution_count": 47,
     "metadata": {},
     "output_type": "execute_result"
    }
   ],
   "source": [
    "len(\"15983826980302109369101541716190454819730044769214253808599277206049318207301349503861141958940766056381261292203143724110984321152195150640216925546634781449672900517967422225000843827916799456536688520341419530526035334412640591742095175846186515461947358670206619911809493170346309685598254911827825514820322635606947891387070396707003695120311902017196393833560714059753235756743665448455476518890366358686024359\")"
   ]
  },
  {
   "cell_type": "code",
   "execution_count": 33,
   "metadata": {},
   "outputs": [],
   "source": [
    "\n",
    "g1=Gene(P)\n",
    "a=randint(43,P-1)\n",
    "def KeyGene(P,g,a):\n",
    "    k=power_mod(g,a,P) \n",
    "    return (P,g,k),a"
   ]
  },
  {
   "cell_type": "code",
   "execution_count": 35,
   "metadata": {},
   "outputs": [],
   "source": [
    "pk,sk=KeyGene(P,g,a)"
   ]
  },
  {
   "cell_type": "code",
   "execution_count": 36,
   "metadata": {},
   "outputs": [
    {
     "name": "stdout",
     "output_type": "stream",
     "text": [
      "Our public key is:  (15983826980302109369101541716190454819730044769214253808599277206049318207301349503861141958940766056381261292203143724110984321152195150640216925546634781449672900517967422225000843827916799456536688520341419530526035334412640591742095175846186515461947358670206619911809493170346309685598254911827825514820322635606947891387070396707003695120311902017196393833560714059753235756743665448455476518890366358686024359, 3, 799032921844551677667435491189756324440586568666492940027389795248928123844320068373345768521506026176634392945734229859379254198753990428485813856926355717955068646255398642969029233782913844063597003943701604912345223605172478496951243649745308720423061677782103647435986468773687298607407843610249639993496509558210130236753705589170856023321478231890912337346575113390370415558185100857273758428810938138610884)\n"
     ]
    }
   ],
   "source": [
    "print(\"Our public key is: \",pk)"
   ]
  },
  {
   "cell_type": "code",
   "execution_count": 37,
   "metadata": {},
   "outputs": [
    {
     "name": "stdout",
     "output_type": "stream",
     "text": [
      "Our private key is:  11708278574936496861604634189679146350273182907452480136209499804251312622023189643185559247852970501539033711667231134206380037006011448381684896045575883407620109086409721005991315544478047560032381367047898158441087336767943592891127367899515430429989616990486782706973399808747234933133393937420617649939594500065659870359388078220017867044604749705379438787278805419735786828117184225450345992718226032771484584\n"
     ]
    }
   ],
   "source": [
    "print(\"Our private key is: \",sk)"
   ]
  },
  {
   "cell_type": "code",
   "execution_count": null,
   "metadata": {},
   "outputs": [],
   "source": []
  }
 ],
 "metadata": {
  "kernelspec": {
   "display_name": "SageMath 9.2",
   "language": "sage",
   "name": "sagemath"
  },
  "language_info": {
   "codemirror_mode": {
    "name": "ipython",
    "version": 3
   },
   "file_extension": ".py",
   "mimetype": "text/x-python",
   "name": "python",
   "nbconvert_exporter": "python",
   "pygments_lexer": "ipython3",
   "version": "3.9.2"
  }
 },
 "nbformat": 4,
 "nbformat_minor": 2
}
